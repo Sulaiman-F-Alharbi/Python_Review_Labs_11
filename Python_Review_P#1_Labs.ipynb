{
 "cells": [
  {
   "cell_type": "markdown",
   "id": "b97dc926",
   "metadata": {},
   "source": [
    "## Lab1-Variables\n",
    "- Define a variable that has a value of your favourite season.\n",
    "- Define “x“ variable has an integer value and variable “y” has a float value.\n",
    "- Assign One Value to Multiple Variables.\n",
    "- Assign Many Values to Multiple Variables."
   ]
  },
  {
   "cell_type": "code",
   "execution_count": 5,
   "id": "8d2579eb",
   "metadata": {},
   "outputs": [
    {
     "name": "stdout",
     "output_type": "stream",
     "text": [
      "all the same all the same\n",
      "1 2\n"
     ]
    }
   ],
   "source": [
    "#Q1\n",
    "best_Season = \"winter\"\n",
    "\n",
    "# Q2\n",
    "x = 10\n",
    "y = 3.5\n",
    "\n",
    "# Q3 and Q4\n",
    "value1 = value2 = \"all the same\"\n",
    "c, z = 1, 2\n",
    "\n",
    "# # for testing\n",
    "# print(value1, value2)\n",
    "# print(c, z)"
   ]
  },
  {
   "cell_type": "markdown",
   "id": "e6d060b4",
   "metadata": {},
   "source": [
    "## Lab2-Conditions\n",
    "\n",
    "### You want to recommend a movie to a friend based on the rating and popularity. To accomplish this do the following: \n",
    "\n",
    "- Create a variable for the movie (choose any movie you like).\n",
    "- Create a variable of type int to hold the rating of the movie out of 5. Give this movie rate = 3\n",
    "- Create a popularity score of type float, let it be 72.65\n",
    "- Using an if statement:\n",
    " - Check if the movie rating is 4 or greater and the popularity is greater than 80, print \"Highly recommended\".\n",
    " - Else if the movie rating is 3 or greater and the popularity is greater than 70, print \"I recommended it, It is good\".\n",
    " - Else if the movie rating is 2 or less and the popularity is greater than 60, print \"You should check it out!\".\n",
    " - Else the movie rating is 2 or less and the popularity is less than 50, print \"Don't watch it, It is a waste of time\"."
   ]
  },
  {
   "cell_type": "code",
   "execution_count": 6,
   "id": "b41b0f4b",
   "metadata": {},
   "outputs": [
    {
     "name": "stdout",
     "output_type": "stream",
     "text": [
      "I recommended it, It is good\n"
     ]
    }
   ],
   "source": [
    "# movie properties questions 1, 2 and 3\n",
    "movie = \"Catch me if you can\"\n",
    "rating = 3\n",
    "popularity = 72.65\n",
    "\n",
    "# using conditions and if statements for questions 5, 6, 7 and 8\n",
    "if rating >= 4 and popularity > 80:\n",
    "    print(\"Highly recommended\")\n",
    "\n",
    "elif rating >= 3 and popularity > 70:\n",
    "    print(\"I recommended it, It is good\")\n",
    "\n",
    "elif rating <= 2 and popularity > 60:\n",
    "\n",
    "    print(\"You should check it out!\")\n",
    "\n",
    "elif rating <= 2 and popularity < 50:\n",
    "    print(\"Don't watch it, It is a waste of time\")\n"
   ]
  }
 ],
 "metadata": {
  "kernelspec": {
   "display_name": "Python 3 (ipykernel)",
   "language": "python",
   "name": "python3"
  },
  "language_info": {
   "codemirror_mode": {
    "name": "ipython",
    "version": 3
   },
   "file_extension": ".py",
   "mimetype": "text/x-python",
   "name": "python",
   "nbconvert_exporter": "python",
   "pygments_lexer": "ipython3",
   "version": "3.11.5"
  }
 },
 "nbformat": 4,
 "nbformat_minor": 5
}
